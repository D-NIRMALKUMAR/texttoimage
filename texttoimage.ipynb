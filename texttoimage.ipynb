{
 "cells": [
  {
   "cell_type": "code",
   "execution_count": 2,
   "metadata": {},
   "outputs": [],
   "source": [
    "import tensorflow as tf\n",
    "from tensorflow.keras.datasets import fashion_mnist\n",
    "\n",
    "# Load Fashion MNIST data\n",
    "(x_train, y_train), (x_test, y_test) = fashion_mnist.load_data()\n",
    "\n",
    "# Normalize and reshape\n",
    "x_train = x_train.astype('float32') / 255.0\n",
    "x_test = x_test.astype('float32') / 255.0\n",
    "x_train = x_train.reshape((x_train.shape[0], 28, 28, 1))\n",
    "x_test = x_test.reshape((x_test.shape[0], 28, 28, 1))\n",
    "\n",
    "# Convert labels to text\n",
    "class_names = [\n",
    "    'T-shirt/top', 'Trouser', 'Pullover', 'Dress', 'Coat',\n",
    "    'Sandal', 'Shirt', 'Sneaker', 'Bag', 'Ankle boot'\n",
    "]\n",
    "\n",
    "def label_to_text(label):\n",
    "    return f\"item is {class_names[label]}\"\n",
    "\n",
    "y_train_text = [label_to_text(label) for label in y_train]\n",
    "y_test_text = [label_to_text(label) for label in y_test]\n"
   ]
  },
  {
   "cell_type": "code",
   "execution_count": 3,
   "metadata": {},
   "outputs": [],
   "source": [
    "from tensorflow.keras.preprocessing.text import Tokenizer\n",
    "from tensorflow.keras.preprocessing.sequence import pad_sequences\n",
    "\n",
    "# Tokenizer for text\n",
    "tokenizer = Tokenizer()\n",
    "tokenizer.fit_on_texts(y_train_text)\n",
    "vocab_size = len(tokenizer.word_index) + 1\n",
    "\n",
    "# Encode texts\n",
    "y_train_sequences = tokenizer.texts_to_sequences(y_train_text)\n",
    "y_test_sequences = tokenizer.texts_to_sequences(y_test_text)\n",
    "\n",
    "# Pad sequences to the same length\n",
    "max_length = max(len(seq) for seq in y_train_sequences)\n",
    "y_train_padded = pad_sequences(y_train_sequences, maxlen=max_length)\n",
    "y_test_padded = pad_sequences(y_test_sequences, maxlen=max_length)\n"
   ]
  },
  {
   "cell_type": "code",
   "execution_count": 4,
   "metadata": {},
   "outputs": [
    {
     "name": "stderr",
     "output_type": "stream",
     "text": [
      "c:\\Users\\ADMIN\\AppData\\Local\\Programs\\Python\\Python312\\Lib\\site-packages\\keras\\src\\layers\\core\\embedding.py:90: UserWarning: Argument `input_length` is deprecated. Just remove it.\n",
      "  warnings.warn(\n"
     ]
    }
   ],
   "source": [
    "from tensorflow.keras.models import Model\n",
    "from tensorflow.keras.layers import Input, Dense, Embedding, LSTM, Reshape, Conv2DTranspose, BatchNormalization, UpSampling2D\n",
    "\n",
    "# Text encoder\n",
    "text_input = Input(shape=(max_length,))\n",
    "text_embedding = Embedding(input_dim=vocab_size, output_dim=50, input_length=max_length)(text_input)\n",
    "text_lstm = LSTM(128)(text_embedding)\n",
    "\n",
    "# Image generator\n",
    "image_input = Dense(7*7*64, activation='relu')(text_lstm)\n",
    "image_input = Reshape((7, 7, 64))(image_input)\n",
    "\n",
    "# Upsample to 14x14\n",
    "image_input = UpSampling2D(size=(2, 2))(image_input)\n",
    "image_input = Conv2DTranspose(64, (5, 5), activation='relu', padding='same')(image_input)\n",
    "image_input = BatchNormalization()(image_input)\n",
    "\n",
    "# Upsample to 28x28\n",
    "image_input = UpSampling2D(size=(2, 2))(image_input)\n",
    "image_output = Conv2DTranspose(1, (5, 5), activation='sigmoid', padding='same')(image_input)\n",
    "\n",
    "model = Model(inputs=text_input, outputs=image_output)\n",
    "model.compile(optimizer='adam', loss='binary_crossentropy')\n",
    "\n"
   ]
  },
  {
   "cell_type": "code",
   "execution_count": 5,
   "metadata": {},
   "outputs": [
    {
     "name": "stdout",
     "output_type": "stream",
     "text": [
      "Epoch 1/10\n",
      "\u001b[1m750/750\u001b[0m \u001b[32m━━━━━━━━━━━━━━━━━━━━\u001b[0m\u001b[37m\u001b[0m \u001b[1m127s\u001b[0m 148ms/step - loss: 0.4201 - val_loss: 0.3969\n",
      "Epoch 2/10\n",
      "\u001b[1m750/750\u001b[0m \u001b[32m━━━━━━━━━━━━━━━━━━━━\u001b[0m\u001b[37m\u001b[0m \u001b[1m148s\u001b[0m 156ms/step - loss: 0.3944 - val_loss: 0.3934\n",
      "Epoch 3/10\n",
      "\u001b[1m750/750\u001b[0m \u001b[32m━━━━━━━━━━━━━━━━━━━━\u001b[0m\u001b[37m\u001b[0m \u001b[1m115s\u001b[0m 154ms/step - loss: 0.3931 - val_loss: 0.3932\n",
      "Epoch 4/10\n",
      "\u001b[1m750/750\u001b[0m \u001b[32m━━━━━━━━━━━━━━━━━━━━\u001b[0m\u001b[37m\u001b[0m \u001b[1m118s\u001b[0m 158ms/step - loss: 0.3933 - val_loss: 0.3936\n",
      "Epoch 5/10\n",
      "\u001b[1m750/750\u001b[0m \u001b[32m━━━━━━━━━━━━━━━━━━━━\u001b[0m\u001b[37m\u001b[0m \u001b[1m112s\u001b[0m 149ms/step - loss: 0.3934 - val_loss: 0.3932\n",
      "Epoch 6/10\n",
      "\u001b[1m750/750\u001b[0m \u001b[32m━━━━━━━━━━━━━━━━━━━━\u001b[0m\u001b[37m\u001b[0m \u001b[1m109s\u001b[0m 145ms/step - loss: 0.3926 - val_loss: 0.3930\n",
      "Epoch 7/10\n",
      "\u001b[1m750/750\u001b[0m \u001b[32m━━━━━━━━━━━━━━━━━━━━\u001b[0m\u001b[37m\u001b[0m \u001b[1m143s\u001b[0m 146ms/step - loss: 0.3929 - val_loss: 0.3925\n",
      "Epoch 8/10\n",
      "\u001b[1m750/750\u001b[0m \u001b[32m━━━━━━━━━━━━━━━━━━━━\u001b[0m\u001b[37m\u001b[0m \u001b[1m142s\u001b[0m 189ms/step - loss: 0.3934 - val_loss: 0.3925\n",
      "Epoch 9/10\n",
      "\u001b[1m750/750\u001b[0m \u001b[32m━━━━━━━━━━━━━━━━━━━━\u001b[0m\u001b[37m\u001b[0m \u001b[1m189s\u001b[0m 252ms/step - loss: 0.3924 - val_loss: 0.3925\n",
      "Epoch 10/10\n",
      "\u001b[1m750/750\u001b[0m \u001b[32m━━━━━━━━━━━━━━━━━━━━\u001b[0m\u001b[37m\u001b[0m \u001b[1m215s\u001b[0m 286ms/step - loss: 0.3931 - val_loss: 0.3926\n"
     ]
    },
    {
     "data": {
      "text/plain": [
       "<keras.src.callbacks.history.History at 0x13237c40ef0>"
      ]
     },
     "execution_count": 5,
     "metadata": {},
     "output_type": "execute_result"
    }
   ],
   "source": [
    "model.fit(y_train_padded, x_train, epochs=10, batch_size=64, validation_split=0.2)\n"
   ]
  },
  {
   "cell_type": "code",
   "execution_count": 8,
   "metadata": {},
   "outputs": [
    {
     "name": "stderr",
     "output_type": "stream",
     "text": [
      "WARNING:absl:You are saving your model as an HDF5 file via `model.save()` or `keras.saving.save_model(model)`. This file format is considered legacy. We recommend using instead the native Keras format, e.g. `model.save('my_model.keras')` or `keras.saving.save_model(model, 'my_model.keras')`. \n"
     ]
    }
   ],
   "source": [
    "model.save('did.h5')"
   ]
  },
  {
   "cell_type": "code",
   "execution_count": 6,
   "metadata": {},
   "outputs": [
    {
     "name": "stdout",
     "output_type": "stream",
     "text": [
      "\u001b[1m1/1\u001b[0m \u001b[32m━━━━━━━━━━━━━━━━━━━━\u001b[0m\u001b[37m\u001b[0m \u001b[1m5s\u001b[0m 5s/step\n"
     ]
    }
   ],
   "source": [
    "def generate_image_from_text(text):\n",
    "    seq = tokenizer.texts_to_sequences([text])\n",
    "    padded_seq = pad_sequences(seq, maxlen=max_length)\n",
    "    generated_image = model.predict(padded_seq)\n",
    "    return generated_image.reshape(28, 28)\n",
    "\n",
    "# Example\n",
    "text = \"item is T-shirt/top\"\n",
    "image = generate_image_from_text(text)\n"
   ]
  },
  {
   "cell_type": "code",
   "execution_count": 10,
   "metadata": {},
   "outputs": [
    {
     "name": "stdout",
     "output_type": "stream",
     "text": [
      "\u001b[1m1/1\u001b[0m \u001b[32m━━━━━━━━━━━━━━━━━━━━\u001b[0m\u001b[37m\u001b[0m \u001b[1m0s\u001b[0m 181ms/step\n"
     ]
    },
    {
     "data": {
      "image/png": "[encoded data removed]",
      "text/plain": [
       "<Figure size 500x500 with 1 Axes>"
      ]
     },
     "metadata": {},
     "output_type": "display_data"
    }
   ],
   "source": [
    "import matplotlib.pyplot as plt\n",
    "\n",
    "def generate_image_from_text(text):\n",
    "    seq = tokenizer.texts_to_sequences([text])\n",
    "    padded_seq = pad_sequences(seq, maxlen=max_length)\n",
    "    generated_image = model.predict(padded_seq)\n",
    "    return generated_image.reshape(28, 28)\n",
    "\n",
    "# Example text\n",
    "text = \"item is Bag\"\n",
    "image = generate_image_from_text(text)\n",
    "\n",
    "# Plot the generated image\n",
    "plt.figure(figsize=(5, 5))\n",
    "plt.imshow(image, cmap='gray')\n",
    "plt.title(f\"Generated Image for: '{text}'\")\n",
    "plt.axis('off')\n",
    "plt.show()\n"
   ]
  }
 ],
 "metadata": {
  "kernelspec": {
   "display_name": "Python 3",
   "language": "python",
   "name": "python3"
  },
  "language_info": {
   "codemirror_mode": {
    "name": "ipython",
    "version": 3
   },
   "file_extension": ".py",
   "mimetype": "text/x-python",
   "name": "python",
   "nbconvert_exporter": "python",
   "pygments_lexer": "ipython3",
   "version": "3.12.4"
  }
 },
 "nbformat": 4,
 "nbformat_minor": 2
}
